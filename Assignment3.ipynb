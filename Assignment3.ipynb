{
  "nbformat": 4,
  "nbformat_minor": 0,
  "metadata": {
    "colab": {
      "provenance": [],
      "authorship_tag": "ABX9TyNbN17dWTDH2pR1xPa5ST+r",
      "include_colab_link": true
    },
    "kernelspec": {
      "name": "python3",
      "display_name": "Python 3"
    },
    "language_info": {
      "name": "python"
    }
  },
  "cells": [
    {
      "cell_type": "markdown",
      "metadata": {
        "id": "view-in-github",
        "colab_type": "text"
      },
      "source": [
        "<a href=\"https://colab.research.google.com/github/SooryaSoman/soorya/blob/main/Assignment3.ipynb\" target=\"_parent\"><img src=\"https://colab.research.google.com/assets/colab-badge.svg\" alt=\"Open In Colab\"/></a>"
      ]
    },
    {
      "cell_type": "code",
      "source": [
        "def middleOfThree(a, b, c) :\n",
        "  if a > b :\n",
        "     if (b > c):\n",
        "               return b\n",
        "          elif (a > c) :  # Indent this line one level more\n",
        "                  return c\n",
        "        else :\n",
        "                  return a\n",
        "  else:\n",
        "\n",
        "            if (a > c) :\n",
        "                  return a\n",
        "            elif (b > c) :\n",
        "                    return c\n",
        "           else :\n",
        "                    return b\n",
        "\n",
        "print( middleOfThree(a, b, c) )"
      ],
      "metadata": {
        "id": "MfX0FXaO1Wfk"
      },
      "execution_count": null,
      "outputs": []
    },
    {
      "cell_type": "markdown",
      "source": [
        "2. Build a calculator in Python using functions"
      ],
      "metadata": {
        "id": "v5n7FgRb1sis"
      }
    },
    {
      "cell_type": "code",
      "source": [
        "# This function adds two numbers\n",
        "def add(x, y):\n",
        "    return x + y\n",
        "\n",
        "# This function subtracts two numbers\n",
        "def subtract(x, y):\n",
        "    return x - y\n",
        "\n",
        "# This function multiplies two numbers\n",
        "def multiply(x, y):\n",
        "    return x * y\n",
        "\n",
        "# This function divides two numbers\n",
        "def divide(x, y):\n",
        "    return x / y\n",
        "\n",
        "\n",
        "print(\"Select operation.\")\n",
        "print(\"1.Add\")\n",
        "print(\"2.Subtract\")\n",
        "print(\"3.Multiply\")\n",
        "print(\"4.Divide\")\n",
        "\n",
        "while True:\n",
        "    # take input from the user\n",
        "    choice = input(\"Enter choice(1/2/3/4): \")\n",
        "\n",
        "    # check if choice is one of the four options\n",
        "    if choice in ('1', '2', '3', '4'):\n",
        "        try:\n",
        "            num1 = float(input(\"Enter first number: \"))\n",
        "            num2 = float(input(\"Enter second number: \"))\n",
        "        except ValueError:\n",
        "            print(\"Invalid input. Please enter a number.\")\n",
        "            continue\n",
        "\n",
        "        if choice == '1':\n",
        "            print(num1, \"+\", num2, \"=\", add(num1, num2))\n",
        "\n",
        "        elif choice == '2':\n",
        "            print(num1, \"-\", num2, \"=\", subtract(num1, num2))\n",
        "\n",
        "        elif choice == '3':\n",
        "            print(num1, \"*\", num2, \"=\", multiply(num1, num2))\n",
        "\n",
        "        elif choice == '4':\n",
        "            print(num1, \"/\", num2, \"=\", divide(num1, num2))\n",
        "\n",
        "        # check if user wants another calculation\n",
        "        # break the while loop if answer is no\n",
        "        next_calculation = input(\"Let's do next calculation? (yes/no): \")\n",
        "        if next_calculation == \"no\":\n",
        "          break\n",
        "    else:\n",
        "        print(\"Invalid Input\")"
      ],
      "metadata": {
        "colab": {
          "base_uri": "https://localhost:8080/"
        },
        "id": "mIZO6ef12bm1",
        "outputId": "3ed0b909-06ce-4e0e-80b5-b09b0f2894e6"
      },
      "execution_count": 12,
      "outputs": [
        {
          "name": "stdout",
          "output_type": "stream",
          "text": [
            "Select operation.\n",
            "1.Add\n",
            "2.Subtract\n",
            "3.Multiply\n",
            "4.Divide\n",
            "Enter choice(1/2/3/4): 4\n",
            "Enter first number: 8\n",
            "Enter second number: 2\n",
            "8.0 / 2.0 = 4.0\n",
            "Let's do next calculation? (yes/no): no\n"
          ]
        }
      ]
    },
    {
      "cell_type": "code",
      "source": [
        "def findHypotenuse(side1, side2):\n",
        "\n",
        "    h = (((side1 * side1) + (side2 * side2))**(1/2));\n",
        "    return h;\n",
        "\n",
        "# Driver code\n",
        "side1 = 3;\n",
        "side2 = 4;\n",
        "\n",
        "print(findHypotenuse(side1, side2));"
      ],
      "metadata": {
        "colab": {
          "base_uri": "https://localhost:8080/"
        },
        "id": "E7ajKtTq3gvG",
        "outputId": "5f739589-8fd7-4e35-c6a7-1a43dbf7b2bc"
      },
      "execution_count": 13,
      "outputs": [
        {
          "output_type": "stream",
          "name": "stdout",
          "text": [
            "5.0\n"
          ]
        }
      ]
    },
    {
      "cell_type": "markdown",
      "source": [
        " The Rectangle problem\n",
        "(a) Write a Rectangle class in Python language, allowing you to build a rectangle with\n",
        "length and width attributes.\n",
        "(b) Create a Perimeter() method to calculate the perimeter of the rectangle and a Area()\n",
        "method to calculate the area of the rectangle.\n",
        "(c) Create a method display() that display the length, width, perimeter and area of an\n",
        "object created using an instantiation on rectangle class.\n"
      ],
      "metadata": {
        "id": "iBQiO7nG4Yms"
      }
    },
    {
      "cell_type": "code",
      "source": [
        "class Rectangle():\n",
        "    def __init__(self, l, w):\n",
        "        self.length = l\n",
        "        self.width  = w\n",
        "\n",
        "    def rectangle_area(self):\n",
        "        return self.length*self.width\n",
        "    def rectangle_perimeter(self):\n",
        "        return 2*(self.length+self.width)\n",
        "    def display(self):\n",
        "        print(\"The length of rectangle is: \", self.length)\n",
        "        print(\"The width of rectangle is: \", self.width)\n",
        "        print(\"The perimeter of rectangle is: \", self.rectangle_perimeter())\n",
        "        print(\"The area of rectangle is: \", self.rectangle_area())\n",
        "newRectangle = Rectangle(12, 10)\n",
        "#print(newRectangle.rectangle_area())\n",
        "#print(newRectangle.rectangle_perimeter())\n",
        "newRectangle.display()\n"
      ],
      "metadata": {
        "colab": {
          "base_uri": "https://localhost:8080/"
        },
        "id": "_3_bB5Y64UUp",
        "outputId": "96ad9e0e-0dc7-47f9-a017-203ae74a1b37"
      },
      "execution_count": 23,
      "outputs": [
        {
          "output_type": "stream",
          "name": "stdout",
          "text": [
            "The length of rectangle is:  12\n",
            "The width of rectangle is:  10\n",
            "The perimeter of rectangle is:  44\n",
            "The area of rectangle is:  120\n"
          ]
        }
      ]
    },
    {
      "cell_type": "markdown",
      "source": [
        " The Bank Account problem\n",
        "(a) Create a Python class called BankAccount which represents a bank account, having\n",
        "as attributes: accountNumber (numeric type), name (name of the account owner as\n",
        "string type), balance.\n",
        "(b) Create a constructor with parameters: accountNumber, name, balance.\n",
        "(c) Create a Deposit() method which manages the deposit actions.\n",
        "(d) Create a Withdrawal() method which manages withdrawals actions.\n",
        "(e) Create an bankFees() method to apply the bank fees with a percentage of 5% of the\n",
        "balance account.\n",
        "(f) Create a display() method to display account details"
      ],
      "metadata": {
        "id": "MSQb0QJm9idV"
      }
    },
    {
      "cell_type": "code",
      "source": [
        "class BankAccount:\n",
        "    # create the constuctor with parameters: accountNumber, name and balance\n",
        "    def __init__(self,accountNumber, name, balance):\n",
        "        self.accountNumber = accountNumber\n",
        "        self.name = name\n",
        "        self.balance = balance\n",
        "\n",
        "    # create Deposit() method\n",
        "    def Deposit(self , d ):\n",
        "        self.balance = self.balance + d\n",
        "\n",
        "    # create Withdrawal method\n",
        "    def Withdrawal(self , w):\n",
        "        if(self.balance < w):\n",
        "            print(\"impossible operation! Insufficient balance !\")\n",
        "        else:\n",
        "            self.balance = self.balance - w\n",
        "    # create bankFees() method\n",
        "    def bankFees(self):\n",
        "        self.balance = (95/100)*self.balance\n",
        "\n",
        "    # create display() method\n",
        "    def display(self):\n",
        "        print(\"Account Number : \" , self.accountNumber)\n",
        "        print(\"Account Name : \" , self.name)\n",
        "        print(\"Account Balance : \" , self.balance , \" $\")\n",
        "\n",
        "# Testing the code :\n",
        "newAccount = BankAccount(2178514584, \"Albert\" , 2700)\n",
        "# Creating Withdrawal Test\n",
        "newAccount.Withdrawal(300)\n",
        "# Create deposit test\n",
        "newAccount.Deposit(200)\n",
        "# Display account informations\n",
        "newAccount.display()\n"
      ],
      "metadata": {
        "colab": {
          "base_uri": "https://localhost:8080/"
        },
        "id": "uzSpZkpk987e",
        "outputId": "957bb261-61b0-4a44-ef8c-122069960816"
      },
      "execution_count": 24,
      "outputs": [
        {
          "output_type": "stream",
          "name": "stdout",
          "text": [
            "Account Number :  2178514584\n",
            "Account Name :  Albert\n",
            "Account Balance :  2600  $\n"
          ]
        }
      ]
    }
  ]
}
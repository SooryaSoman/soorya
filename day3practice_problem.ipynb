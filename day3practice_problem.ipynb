{
  "nbformat": 4,
  "nbformat_minor": 0,
  "metadata": {
    "colab": {
      "provenance": [],
      "authorship_tag": "ABX9TyMYRJjaAawcZqiUfH2CVFxE",
      "include_colab_link": true
    },
    "kernelspec": {
      "name": "python3",
      "display_name": "Python 3"
    },
    "language_info": {
      "name": "python"
    }
  },
  "cells": [
    {
      "cell_type": "markdown",
      "metadata": {
        "id": "view-in-github",
        "colab_type": "text"
      },
      "source": [
        "<a href=\"https://colab.research.google.com/github/SooryaSoman/soorya/blob/main/day3practice_problem.ipynb\" target=\"_parent\"><img src=\"https://colab.research.google.com/assets/colab-badge.svg\" alt=\"Open In Colab\"/></a>"
      ]
    },
    {
      "cell_type": "code",
      "execution_count": null,
      "metadata": {
        "id": "CHznjiXP-imh"
      },
      "outputs": [],
      "source": []
    },
    {
      "cell_type": "markdown",
      "source": [
        "Ticket Price Calculator:\n",
        "I. Ask the user to enter their age.\n",
        "II. Use control statements (if-elif-else) to calculate the ticket price based on the\n",
        "following conditions:\n",
        "a. If the age is below 5, the ticket price is free.\n",
        "b. If the age is between 5 and 12 (inclusive), the ticket price is Rs.10.\n",
        "c. If the age is above 12, the ticket price is Rs.50.\n",
        "d. If the age is above 60, the ticket price is free.\n",
        "e. If the gender is female, the ticket price is 50% of the applicable rates.\n",
        "III. Display the ticket price to the user."
      ],
      "metadata": {
        "id": "7VrNB6Lc-qXG"
      }
    },
    {
      "cell_type": "code",
      "source": [
        "print (\"Hello\")\n",
        "\n",
        "print ('Your age')\n",
        "age=input(\"--->\")\n",
        "age=int(age)\n",
        "print('your gender:f/m')\n",
        "gender=input(\"--->\")\n",
        "gender=str(gender)\n",
        "price=0\n",
        "if age >=5 or age<=12:\n",
        "    price==10.00\n",
        "elif age > 15 or age < 60:\n",
        "    price==50.00\n",
        "elif age > 60 or age<5:\n",
        "    price==0\n",
        "elif gender==\"f\":\n",
        "    price=price/2\n",
        "\n",
        "print ('Your  fee is !'+ str(price))"
      ],
      "metadata": {
        "colab": {
          "base_uri": "https://localhost:8080/"
        },
        "id": "J6W2qW_7-nga",
        "outputId": "a37b1fca-ebf1-4597-dba8-5b0c2eadef26"
      },
      "execution_count": 9,
      "outputs": [
        {
          "output_type": "stream",
          "name": "stdout",
          "text": [
            "Hello\n",
            "Your age\n",
            "--->5\n",
            "your gender:f/m\n",
            "--->f\n",
            "Your  fee is !0\n"
          ]
        }
      ]
    },
    {
      "cell_type": "markdown",
      "source": [
        "A dictionary is given D={‘John’ [25,32,43],’Peter’:[87,55,96],’Ram’:[58,55,43],’Meena’:[63,79,85]}\n",
        "Get a name from user if the name in the dictionary change the values corresponding to\n",
        "that user to [88,77,99] and print the dictionary. Else print ‘Name not found’.\n"
      ],
      "metadata": {
        "id": "q7g0qeb_NFsI"
      }
    },
    {
      "cell_type": "code",
      "source": [
        "D={'John': [25,32,43],'Peter'\n",
        ":[87,55,96],'Ram':[58,55,43],'Meena':[63,79,85]}\n",
        "print('enter a name')\n",
        "name=input(\"--->\")\n",
        "name=str(name)\n",
        "if name in D:\n",
        "    D[name]=[88,77,99]\n",
        "    print(D)\n",
        "\n",
        "else:\n",
        "    print('name not found')"
      ],
      "metadata": {
        "colab": {
          "base_uri": "https://localhost:8080/"
        },
        "id": "XjMnGp-qGy2j",
        "outputId": "ba583c84-6118-494c-b64f-a66fa98f7c24"
      },
      "execution_count": 14,
      "outputs": [
        {
          "output_type": "stream",
          "name": "stdout",
          "text": [
            "enter a name\n",
            "--->Meena\n",
            "{'John': [25, 32, 43], 'Peter': [87, 55, 96], 'Ram': [58, 55, 43], 'Meena': [88, 77, 99]}\n"
          ]
        }
      ]
    },
    {
      "cell_type": "markdown",
      "source": [
        "Given the participants' score sheet for your University Sports Day, you are required to\n",
        "find the runner-up score. You are given scores. Store them in a list and find the score of\n",
        "the runner-up. (Create an array of scores and print the runner up score)"
      ],
      "metadata": {
        "id": "hL6-h82-OxZ2"
      }
    },
    {
      "cell_type": "code",
      "source": [],
      "metadata": {
        "id": "70khlm9VOzWw"
      },
      "execution_count": null,
      "outputs": []
    }
  ]
}
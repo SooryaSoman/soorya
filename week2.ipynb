{
  "nbformat": 4,
  "nbformat_minor": 0,
  "metadata": {
    "colab": {
      "provenance": [],
      "authorship_tag": "ABX9TyNrwnKq6ERI7SioDbesXO0q",
      "include_colab_link": true
    },
    "kernelspec": {
      "name": "python3",
      "display_name": "Python 3"
    },
    "language_info": {
      "name": "python"
    }
  },
  "cells": [
    {
      "cell_type": "markdown",
      "metadata": {
        "id": "view-in-github",
        "colab_type": "text"
      },
      "source": [
        "<a href=\"https://colab.research.google.com/github/SooryaSoman/soorya/blob/main/week2.ipynb\" target=\"_parent\"><img src=\"https://colab.research.google.com/assets/colab-badge.svg\" alt=\"Open In Colab\"/></a>"
      ]
    },
    {
      "cell_type": "markdown",
      "source": [
        "1. Write an interactive Python Program to implement following “Guess Game”\n",
        "i. Think of a number between 1 and 10 and store it in a variable called\n",
        "\"secretNumber\".\n",
        "ii. Ask the user to enter a number between 1 and 10 and store it in a variable called\n",
        "\"guess\".\n",
        "iii. Use control statements (if-else) to check if the guess is correct, higher, or lower\n",
        "than the secret number.\n",
        "iv. Display appropriate messages to the user based on their guess:\n",
        "• If the guess is correct, display \"Congratulations! You guessed the number\n",
        "correctly!\"\n",
        "• If the guess is higher than the secret number, display \"Too high! Try\n",
        "again.\"\n",
        "• If the guess is lower than the secret number, display \"Too low! Try again.\"\n",
        "v. Allow the user to keep guessing until they guess the correct number."
      ],
      "metadata": {
        "id": "QCIhbUhMSUNL"
      }
    },
    {
      "cell_type": "code",
      "source": [
        "import random\n",
        "secretNumber = random.randint(1, 10)\n",
        "\n",
        "guess = input(\"guess a number between 1 and 10: \")\n",
        "guess = int(guess)\n",
        "\n",
        "if guess == secretNumber:\n",
        "    print(\"congratulations! you won!\")\n",
        "elif guess != secretNumber:\n",
        "    if guess > secretNumber:\n",
        "        print(\"too high! try again\")\n",
        "    elif guess < secretNumber:\n",
        "        print(\"too low! try again\")\n",
        "else:\n",
        "    print(\"nope, sorry. try again!\")"
      ],
      "metadata": {
        "colab": {
          "base_uri": "https://localhost:8080/"
        },
        "id": "cd-KLuHsSVK9",
        "outputId": "6c322361-9894-40fd-f172-5c4e063676de"
      },
      "execution_count": 7,
      "outputs": [
        {
          "output_type": "stream",
          "name": "stdout",
          "text": [
            "guess a number between 1 and 10: 9\n",
            "too high! try again\n"
          ]
        }
      ]
    },
    {
      "cell_type": "markdown",
      "source": [
        "Write a program to find and print the Factorial of this number. The Factorial of a positive\n",
        "integer N refers to the product of all number in the range from 1 to N."
      ],
      "metadata": {
        "id": "XWZwRsc5Wcve"
      }
    },
    {
      "cell_type": "code",
      "source": [
        "n = int (input (\"Enter a number: \"))\n",
        "factorial = 1\n",
        "if n >= 1:\n",
        "    for i in range (1, n+1):\n",
        "        factorial=factorial *i\n",
        "print(\"Factorial of the given number is: \", factorial)"
      ],
      "metadata": {
        "colab": {
          "base_uri": "https://localhost:8080/"
        },
        "id": "RyHJkfozXHtL",
        "outputId": "64cef739-91e9-463d-9ece-250c791e9209"
      },
      "execution_count": 8,
      "outputs": [
        {
          "output_type": "stream",
          "name": "stdout",
          "text": [
            "Enter a number: 5\n",
            "Factorial of the given number is:  120\n"
          ]
        }
      ]
    },
    {
      "cell_type": "markdown",
      "source": [
        "Roy wants to change his profile picture on Facebook. Now Facebook has some\n",
        "restriction over the dimension of picture that we can upload.\n",
        "Minimum dimension of the picture can be L x L, where L is the length of the side\n",
        "of square. Now Roy has N photos of various dimensions.\n",
        "Dimension of a photo is denoted as W x H\n",
        "where W - width of the photo and H - Height of the photo\n",
        "• When any photo is uploaded following events may occur:\n",
        "[1] If any of the width or height is less than L, user is prompted to upload another\n",
        "one. Print \"UPLOAD ANOTHER\" in this case.\n",
        "[2] If width and height, both are large enough and\n",
        "(a) if the photo is already square then it is accepted. Print \"ACCEPTED\" in this\n",
        "case.\n",
        "(b) else user is prompted to crop it. Print \"CROP IT\" in this case.\n",
        "Given L, N, W and H as input, write a program to print appropriate text as o"
      ],
      "metadata": {
        "id": "p8lc0x0JZi3o"
      }
    },
    {
      "cell_type": "code",
      "source": [
        "L = int(input())\n",
        "N = int(input())\n",
        "while N !=0 :\n",
        " T = list(map(int, input().split()))\n",
        "W = T[0]\n",
        "H = T[1]\n",
        "if L>W :\n",
        "    print(\"UPLOAD ANOTHER\")\n",
        "elif L>H:\n",
        "    print(\"UPLOAD ANOTHER\")\n",
        "elif H == W :\n",
        "    print(\"ACCEPTED\")\n",
        "else:\n",
        "  print(\"CROP IT\")\n",
        "N = N-1"
      ],
      "metadata": {
        "colab": {
          "base_uri": "https://localhost:8080/"
        },
        "id": "hMwh3DeHZbK0",
        "outputId": "75fc076b-5d09-4ee4-8c02-7a2511efa2e0"
      },
      "execution_count": null,
      "outputs": [
        {
          "name": "stdout",
          "output_type": "stream",
          "text": [
            "100\n",
            "4\n",
            "5\n",
            "5\n",
            "5\n"
          ]
        }
      ]
    }
  ]
}